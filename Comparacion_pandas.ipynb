{
 "cells": [
  {
   "cell_type": "code",
   "execution_count": 1,
   "id": "172eba7f",
   "metadata": {},
   "outputs": [],
   "source": [
    "import pandas as pd\n",
    "import time\n",
    "import datetime\n",
    "from numpy.random import randint\n",
    "import numpy as np # for importing numpy\n",
    "import matplotlib.pyplot as plt # for importing matplotlib\n",
    "from IPython.display import display as disp"
   ]
  },
  {
   "cell_type": "code",
   "execution_count": 2,
   "id": "aae6ef3d",
   "metadata": {},
   "outputs": [
    {
     "data": {
      "text/html": [
       "<div>\n",
       "<style scoped>\n",
       "    .dataframe tbody tr th:only-of-type {\n",
       "        vertical-align: middle;\n",
       "    }\n",
       "\n",
       "    .dataframe tbody tr th {\n",
       "        vertical-align: top;\n",
       "    }\n",
       "\n",
       "    .dataframe thead th {\n",
       "        text-align: right;\n",
       "    }\n",
       "</style>\n",
       "<table border=\"1\" class=\"dataframe\">\n",
       "  <thead>\n",
       "    <tr style=\"text-align: right;\">\n",
       "      <th></th>\n",
       "      <th>title</th>\n",
       "      <th>is_paid</th>\n",
       "      <th>price</th>\n",
       "      <th>headline</th>\n",
       "      <th>num_subscribers</th>\n",
       "      <th>avg_rating</th>\n",
       "      <th>num_reviews</th>\n",
       "      <th>num_comments</th>\n",
       "      <th>num_lectures</th>\n",
       "      <th>content_length_min</th>\n",
       "      <th>published_time</th>\n",
       "      <th>last_update_date</th>\n",
       "      <th>category</th>\n",
       "      <th>subcategory</th>\n",
       "      <th>topic</th>\n",
       "      <th>language</th>\n",
       "      <th>course_url</th>\n",
       "      <th>instructor_name</th>\n",
       "      <th>instructor_url</th>\n",
       "    </tr>\n",
       "    <tr>\n",
       "      <th>id</th>\n",
       "      <th></th>\n",
       "      <th></th>\n",
       "      <th></th>\n",
       "      <th></th>\n",
       "      <th></th>\n",
       "      <th></th>\n",
       "      <th></th>\n",
       "      <th></th>\n",
       "      <th></th>\n",
       "      <th></th>\n",
       "      <th></th>\n",
       "      <th></th>\n",
       "      <th></th>\n",
       "      <th></th>\n",
       "      <th></th>\n",
       "      <th></th>\n",
       "      <th></th>\n",
       "      <th></th>\n",
       "      <th></th>\n",
       "    </tr>\n",
       "  </thead>\n",
       "  <tbody>\n",
       "    <tr>\n",
       "      <th>4715.0</th>\n",
       "      <td>Online Vegan Vegetarian Cooking School</td>\n",
       "      <td>True</td>\n",
       "      <td>24.99</td>\n",
       "      <td>Learn to cook delicious vegan recipes. Filmed ...</td>\n",
       "      <td>2231.0</td>\n",
       "      <td>3.75</td>\n",
       "      <td>134.0</td>\n",
       "      <td>42.0</td>\n",
       "      <td>37.0</td>\n",
       "      <td>1268.0</td>\n",
       "      <td>2010-08-05T22:06:13Z</td>\n",
       "      <td>2020-11-06</td>\n",
       "      <td>Lifestyle</td>\n",
       "      <td>Food &amp; Beverage</td>\n",
       "      <td>Vegan Cooking</td>\n",
       "      <td>English</td>\n",
       "      <td>/course/vegan-vegetarian-cooking-school/</td>\n",
       "      <td>Angela Poch</td>\n",
       "      <td>/user/angelapoch/</td>\n",
       "    </tr>\n",
       "    <tr>\n",
       "      <th>1769.0</th>\n",
       "      <td>The Lean Startup Talk at Stanford E-Corner</td>\n",
       "      <td>False</td>\n",
       "      <td>0.00</td>\n",
       "      <td>Debunking Myths of Entrepreneurship A startup ...</td>\n",
       "      <td>26474.0</td>\n",
       "      <td>4.50</td>\n",
       "      <td>709.0</td>\n",
       "      <td>112.0</td>\n",
       "      <td>9.0</td>\n",
       "      <td>88.0</td>\n",
       "      <td>2010-01-12T18:09:46Z</td>\n",
       "      <td>NaN</td>\n",
       "      <td>Business</td>\n",
       "      <td>Entrepreneurship</td>\n",
       "      <td>Lean Startup</td>\n",
       "      <td>English</td>\n",
       "      <td>/course/the-lean-startup-debunking-myths-of-en...</td>\n",
       "      <td>Eric Ries</td>\n",
       "      <td>/user/ericries/</td>\n",
       "    </tr>\n",
       "    <tr>\n",
       "      <th>5664.0</th>\n",
       "      <td>How To Become a Vegan, Vegetarian, or Flexitarian</td>\n",
       "      <td>True</td>\n",
       "      <td>19.99</td>\n",
       "      <td>Get the tools you need for a lifestyle change ...</td>\n",
       "      <td>1713.0</td>\n",
       "      <td>4.40</td>\n",
       "      <td>41.0</td>\n",
       "      <td>13.0</td>\n",
       "      <td>14.0</td>\n",
       "      <td>82.0</td>\n",
       "      <td>2010-10-13T18:07:17Z</td>\n",
       "      <td>2019-10-09</td>\n",
       "      <td>Lifestyle</td>\n",
       "      <td>Other Lifestyle</td>\n",
       "      <td>Vegan Cooking</td>\n",
       "      <td>English</td>\n",
       "      <td>/course/see-my-personal-motivation-for-becomin...</td>\n",
       "      <td>Angela Poch</td>\n",
       "      <td>/user/angelapoch/</td>\n",
       "    </tr>\n",
       "    <tr>\n",
       "      <th>7723.0</th>\n",
       "      <td>How to Train a Puppy</td>\n",
       "      <td>True</td>\n",
       "      <td>199.99</td>\n",
       "      <td>Train your puppy the right way with Dr. Ian Du...</td>\n",
       "      <td>4988.0</td>\n",
       "      <td>4.80</td>\n",
       "      <td>395.0</td>\n",
       "      <td>88.0</td>\n",
       "      <td>36.0</td>\n",
       "      <td>1511.0</td>\n",
       "      <td>2011-06-20T20:08:38Z</td>\n",
       "      <td>2016-01-13</td>\n",
       "      <td>Lifestyle</td>\n",
       "      <td>Pet Care &amp; Training</td>\n",
       "      <td>Pet Training</td>\n",
       "      <td>English</td>\n",
       "      <td>/course/complete-dunbar-collection/</td>\n",
       "      <td>Ian Dunbar</td>\n",
       "      <td>/user/ian-dunbar/</td>\n",
       "    </tr>\n",
       "    <tr>\n",
       "      <th>8157.0</th>\n",
       "      <td>Web Design from the Ground Up</td>\n",
       "      <td>True</td>\n",
       "      <td>159.99</td>\n",
       "      <td>Learn web design online: Everything you need t...</td>\n",
       "      <td>1266.0</td>\n",
       "      <td>4.75</td>\n",
       "      <td>38.0</td>\n",
       "      <td>12.0</td>\n",
       "      <td>38.0</td>\n",
       "      <td>569.0</td>\n",
       "      <td>2011-06-23T18:31:20Z</td>\n",
       "      <td>NaN</td>\n",
       "      <td>Design</td>\n",
       "      <td>Web Design</td>\n",
       "      <td>Web Design</td>\n",
       "      <td>English</td>\n",
       "      <td>/course/web-design-from-the-ground-up/</td>\n",
       "      <td>E Learning Lab</td>\n",
       "      <td>/user/edwin-ang-2/</td>\n",
       "    </tr>\n",
       "    <tr>\n",
       "      <th>...</th>\n",
       "      <td>...</td>\n",
       "      <td>...</td>\n",
       "      <td>...</td>\n",
       "      <td>...</td>\n",
       "      <td>...</td>\n",
       "      <td>...</td>\n",
       "      <td>...</td>\n",
       "      <td>...</td>\n",
       "      <td>...</td>\n",
       "      <td>...</td>\n",
       "      <td>...</td>\n",
       "      <td>...</td>\n",
       "      <td>...</td>\n",
       "      <td>...</td>\n",
       "      <td>...</td>\n",
       "      <td>...</td>\n",
       "      <td>...</td>\n",
       "      <td>...</td>\n",
       "      <td>...</td>\n",
       "    </tr>\n",
       "    <tr>\n",
       "      <th>4913954.0</th>\n",
       "      <td>Let's Speak Urdu - The Urdu Grammar</td>\n",
       "      <td>True</td>\n",
       "      <td>19.99</td>\n",
       "      <td>Urdu - Become fluent in this beautiful South A...</td>\n",
       "      <td>3.0</td>\n",
       "      <td>0.00</td>\n",
       "      <td>0.0</td>\n",
       "      <td>0.0</td>\n",
       "      <td>5.0</td>\n",
       "      <td>54.0</td>\n",
       "      <td>2022-10-05T11:31:36Z</td>\n",
       "      <td>2022-10-06</td>\n",
       "      <td>Teaching &amp; Academics</td>\n",
       "      <td>Language Learning</td>\n",
       "      <td>Urdu Language</td>\n",
       "      <td>English</td>\n",
       "      <td>/course/lets-speak-urdu-the-grammar/</td>\n",
       "      <td>Jawaid Hameed</td>\n",
       "      <td>/user/jawaid-hameed/</td>\n",
       "    </tr>\n",
       "    <tr>\n",
       "      <th>4914146.0</th>\n",
       "      <td>CompTIA Linux+ (XKO-004/005 # 2 Practice Exam ...</td>\n",
       "      <td>True</td>\n",
       "      <td>49.99</td>\n",
       "      <td>Practice Latest exam questions with detailed e...</td>\n",
       "      <td>0.0</td>\n",
       "      <td>0.00</td>\n",
       "      <td>0.0</td>\n",
       "      <td>0.0</td>\n",
       "      <td>0.0</td>\n",
       "      <td>0.0</td>\n",
       "      <td>2022-10-05T12:29:23Z</td>\n",
       "      <td>2022-10-05</td>\n",
       "      <td>IT &amp; Software</td>\n",
       "      <td>IT Certifications</td>\n",
       "      <td>CompTIA Linux+</td>\n",
       "      <td>English</td>\n",
       "      <td>/course/comptia-linux-xko-004005-2-practice-ex...</td>\n",
       "      <td>Jean-François d'Halluin</td>\n",
       "      <td>/user/badre-lini/</td>\n",
       "    </tr>\n",
       "    <tr>\n",
       "      <th>4914002.0</th>\n",
       "      <td>CISSP 4 full exams #1 : All CISSP domains - 12...</td>\n",
       "      <td>True</td>\n",
       "      <td>49.99</td>\n",
       "      <td>Practice Latest exam questions with detailed e...</td>\n",
       "      <td>0.0</td>\n",
       "      <td>0.00</td>\n",
       "      <td>0.0</td>\n",
       "      <td>0.0</td>\n",
       "      <td>0.0</td>\n",
       "      <td>0.0</td>\n",
       "      <td>2022-10-05T11:04:05Z</td>\n",
       "      <td>2022-10-05</td>\n",
       "      <td>IT &amp; Software</td>\n",
       "      <td>IT Certifications</td>\n",
       "      <td>CISSP - Certified Information Systems Security...</td>\n",
       "      <td>English</td>\n",
       "      <td>/course/cissp-4-full-exams-1-all-cissp-domains...</td>\n",
       "      <td>Jean-François d'Halluin</td>\n",
       "      <td>/user/badre-lini/</td>\n",
       "    </tr>\n",
       "    <tr>\n",
       "      <th>4913934.0</th>\n",
       "      <td>JD Edwards EnterpriseOne Fixed Assets Accounti...</td>\n",
       "      <td>True</td>\n",
       "      <td>119.99</td>\n",
       "      <td>Full-length course (Part-3 of 3) on JD Edwards...</td>\n",
       "      <td>0.0</td>\n",
       "      <td>0.00</td>\n",
       "      <td>0.0</td>\n",
       "      <td>0.0</td>\n",
       "      <td>9.0</td>\n",
       "      <td>82.0</td>\n",
       "      <td>2022-10-05T10:30:19Z</td>\n",
       "      <td>2022-10-05</td>\n",
       "      <td>Finance &amp; Accounting</td>\n",
       "      <td>Other Finance &amp; Accounting</td>\n",
       "      <td>Financial Accounting</td>\n",
       "      <td>English</td>\n",
       "      <td>/course/jde-fixed-assets-accounting-part-3/</td>\n",
       "      <td>Niranjan Bhatia</td>\n",
       "      <td>/user/systemic-software-solutions/</td>\n",
       "    </tr>\n",
       "    <tr>\n",
       "      <th>4914054.0</th>\n",
       "      <td>CISSP 4 full exams #2 : All CISSP domains - 12...</td>\n",
       "      <td>True</td>\n",
       "      <td>49.99</td>\n",
       "      <td>Practice Latest exam questions with detailed e...</td>\n",
       "      <td>0.0</td>\n",
       "      <td>0.00</td>\n",
       "      <td>0.0</td>\n",
       "      <td>0.0</td>\n",
       "      <td>0.0</td>\n",
       "      <td>0.0</td>\n",
       "      <td>2022-10-05T11:36:34Z</td>\n",
       "      <td>2022-10-05</td>\n",
       "      <td>IT &amp; Software</td>\n",
       "      <td>IT Certifications</td>\n",
       "      <td>CISSP - Certified Information Systems Security...</td>\n",
       "      <td>English</td>\n",
       "      <td>/course/cissp-4-full-exams-2-all-cissp-domains...</td>\n",
       "      <td>Jean-François d'Halluin</td>\n",
       "      <td>/user/badre-lini/</td>\n",
       "    </tr>\n",
       "  </tbody>\n",
       "</table>\n",
       "<p>209734 rows × 19 columns</p>\n",
       "</div>"
      ],
      "text/plain": [
       "                                                       title  is_paid   price  \\\n",
       "id                                                                              \n",
       "4715.0                Online Vegan Vegetarian Cooking School     True   24.99   \n",
       "1769.0            The Lean Startup Talk at Stanford E-Corner    False    0.00   \n",
       "5664.0     How To Become a Vegan, Vegetarian, or Flexitarian     True   19.99   \n",
       "7723.0                                  How to Train a Puppy     True  199.99   \n",
       "8157.0                         Web Design from the Ground Up     True  159.99   \n",
       "...                                                      ...      ...     ...   \n",
       "4913954.0                Let's Speak Urdu - The Urdu Grammar     True   19.99   \n",
       "4914146.0  CompTIA Linux+ (XKO-004/005 # 2 Practice Exam ...     True   49.99   \n",
       "4914002.0  CISSP 4 full exams #1 : All CISSP domains - 12...     True   49.99   \n",
       "4913934.0  JD Edwards EnterpriseOne Fixed Assets Accounti...     True  119.99   \n",
       "4914054.0  CISSP 4 full exams #2 : All CISSP domains - 12...     True   49.99   \n",
       "\n",
       "                                                    headline  num_subscribers  \\\n",
       "id                                                                              \n",
       "4715.0     Learn to cook delicious vegan recipes. Filmed ...           2231.0   \n",
       "1769.0     Debunking Myths of Entrepreneurship A startup ...          26474.0   \n",
       "5664.0     Get the tools you need for a lifestyle change ...           1713.0   \n",
       "7723.0     Train your puppy the right way with Dr. Ian Du...           4988.0   \n",
       "8157.0     Learn web design online: Everything you need t...           1266.0   \n",
       "...                                                      ...              ...   \n",
       "4913954.0  Urdu - Become fluent in this beautiful South A...              3.0   \n",
       "4914146.0  Practice Latest exam questions with detailed e...              0.0   \n",
       "4914002.0  Practice Latest exam questions with detailed e...              0.0   \n",
       "4913934.0  Full-length course (Part-3 of 3) on JD Edwards...              0.0   \n",
       "4914054.0  Practice Latest exam questions with detailed e...              0.0   \n",
       "\n",
       "           avg_rating  num_reviews  num_comments  num_lectures  \\\n",
       "id                                                               \n",
       "4715.0           3.75        134.0          42.0          37.0   \n",
       "1769.0           4.50        709.0         112.0           9.0   \n",
       "5664.0           4.40         41.0          13.0          14.0   \n",
       "7723.0           4.80        395.0          88.0          36.0   \n",
       "8157.0           4.75         38.0          12.0          38.0   \n",
       "...               ...          ...           ...           ...   \n",
       "4913954.0        0.00          0.0           0.0           5.0   \n",
       "4914146.0        0.00          0.0           0.0           0.0   \n",
       "4914002.0        0.00          0.0           0.0           0.0   \n",
       "4913934.0        0.00          0.0           0.0           9.0   \n",
       "4914054.0        0.00          0.0           0.0           0.0   \n",
       "\n",
       "           content_length_min        published_time last_update_date  \\\n",
       "id                                                                     \n",
       "4715.0                 1268.0  2010-08-05T22:06:13Z       2020-11-06   \n",
       "1769.0                   88.0  2010-01-12T18:09:46Z              NaN   \n",
       "5664.0                   82.0  2010-10-13T18:07:17Z       2019-10-09   \n",
       "7723.0                 1511.0  2011-06-20T20:08:38Z       2016-01-13   \n",
       "8157.0                  569.0  2011-06-23T18:31:20Z              NaN   \n",
       "...                       ...                   ...              ...   \n",
       "4913954.0                54.0  2022-10-05T11:31:36Z       2022-10-06   \n",
       "4914146.0                 0.0  2022-10-05T12:29:23Z       2022-10-05   \n",
       "4914002.0                 0.0  2022-10-05T11:04:05Z       2022-10-05   \n",
       "4913934.0                82.0  2022-10-05T10:30:19Z       2022-10-05   \n",
       "4914054.0                 0.0  2022-10-05T11:36:34Z       2022-10-05   \n",
       "\n",
       "                       category                 subcategory  \\\n",
       "id                                                            \n",
       "4715.0                Lifestyle             Food & Beverage   \n",
       "1769.0                 Business            Entrepreneurship   \n",
       "5664.0                Lifestyle             Other Lifestyle   \n",
       "7723.0                Lifestyle         Pet Care & Training   \n",
       "8157.0                   Design                  Web Design   \n",
       "...                         ...                         ...   \n",
       "4913954.0  Teaching & Academics           Language Learning   \n",
       "4914146.0         IT & Software           IT Certifications   \n",
       "4914002.0         IT & Software           IT Certifications   \n",
       "4913934.0  Finance & Accounting  Other Finance & Accounting   \n",
       "4914054.0         IT & Software           IT Certifications   \n",
       "\n",
       "                                                       topic language  \\\n",
       "id                                                                      \n",
       "4715.0                                         Vegan Cooking  English   \n",
       "1769.0                                          Lean Startup  English   \n",
       "5664.0                                         Vegan Cooking  English   \n",
       "7723.0                                          Pet Training  English   \n",
       "8157.0                                            Web Design  English   \n",
       "...                                                      ...      ...   \n",
       "4913954.0                                      Urdu Language  English   \n",
       "4914146.0                                     CompTIA Linux+  English   \n",
       "4914002.0  CISSP - Certified Information Systems Security...  English   \n",
       "4913934.0                               Financial Accounting  English   \n",
       "4914054.0  CISSP - Certified Information Systems Security...  English   \n",
       "\n",
       "                                                  course_url  \\\n",
       "id                                                             \n",
       "4715.0              /course/vegan-vegetarian-cooking-school/   \n",
       "1769.0     /course/the-lean-startup-debunking-myths-of-en...   \n",
       "5664.0     /course/see-my-personal-motivation-for-becomin...   \n",
       "7723.0                   /course/complete-dunbar-collection/   \n",
       "8157.0                /course/web-design-from-the-ground-up/   \n",
       "...                                                      ...   \n",
       "4913954.0               /course/lets-speak-urdu-the-grammar/   \n",
       "4914146.0  /course/comptia-linux-xko-004005-2-practice-ex...   \n",
       "4914002.0  /course/cissp-4-full-exams-1-all-cissp-domains...   \n",
       "4913934.0        /course/jde-fixed-assets-accounting-part-3/   \n",
       "4914054.0  /course/cissp-4-full-exams-2-all-cissp-domains...   \n",
       "\n",
       "                   instructor_name                      instructor_url  \n",
       "id                                                                      \n",
       "4715.0                 Angela Poch                   /user/angelapoch/  \n",
       "1769.0                   Eric Ries                     /user/ericries/  \n",
       "5664.0                 Angela Poch                   /user/angelapoch/  \n",
       "7723.0                  Ian Dunbar                   /user/ian-dunbar/  \n",
       "8157.0              E Learning Lab                  /user/edwin-ang-2/  \n",
       "...                            ...                                 ...  \n",
       "4913954.0            Jawaid Hameed                /user/jawaid-hameed/  \n",
       "4914146.0  Jean-François d'Halluin                   /user/badre-lini/  \n",
       "4914002.0  Jean-François d'Halluin                   /user/badre-lini/  \n",
       "4913934.0          Niranjan Bhatia  /user/systemic-software-solutions/  \n",
       "4914054.0  Jean-François d'Halluin                   /user/badre-lini/  \n",
       "\n",
       "[209734 rows x 19 columns]"
      ]
     },
     "metadata": {},
     "output_type": "display_data"
    },
    {
     "name": "stdout",
     "output_type": "stream",
     "text": [
      "0:00:01.230582\n"
     ]
    }
   ],
   "source": [
    "prev = datetime.datetime.now()\n",
    "c_info = pd.read_csv(\"/Users/daniela.almendarez/Desktop/Proyecto_comparacion/Course_info.csv\", index_col = 0)\n",
    "now = datetime.datetime.now()\n",
    "disp(c_info)\n",
    "print(now - prev)"
   ]
  },
  {
   "cell_type": "code",
   "execution_count": 3,
   "id": "c0f31179",
   "metadata": {},
   "outputs": [
    {
     "name": "stdout",
     "output_type": "stream",
     "text": [
      "0:00:00.257717\n"
     ]
    }
   ],
   "source": [
    "prev = datetime.datetime.now()\n",
    "c_info['num_subscribers'] = c_info['num_subscribers'].astype('int64')\n",
    "c_info['num_reviews'] = c_info['num_reviews'].astype('int64')\n",
    "c_info['num_comments'] = c_info['num_comments'].astype('int64')\n",
    "c_info['num_lectures'] = c_info['num_lectures'].astype('int64')\n",
    "c_info['num_reviews'] = c_info['num_reviews'].astype('int64')\n",
    "c_info['published_time'] = pd.to_datetime(c_info['published_time'])\n",
    "c_info['last_update_date'] = pd.to_datetime(c_info['last_update_date'])\n",
    "now = datetime.datetime.now()\n",
    "print(now - prev)"
   ]
  },
  {
   "cell_type": "code",
   "execution_count": 4,
   "id": "5d9f68ed",
   "metadata": {},
   "outputs": [
    {
     "name": "stdout",
     "output_type": "stream",
     "text": [
      "<class 'pandas.core.frame.DataFrame'>\n",
      "Float64Index: 209734 entries, 4715.0 to 4914054.0\n",
      "Data columns (total 19 columns):\n",
      " #   Column              Non-Null Count   Dtype              \n",
      "---  ------              --------------   -----              \n",
      " 0   title               209734 non-null  object             \n",
      " 1   is_paid             209734 non-null  bool               \n",
      " 2   price               209734 non-null  float64            \n",
      " 3   headline            209707 non-null  object             \n",
      " 4   num_subscribers     209734 non-null  int64              \n",
      " 5   avg_rating          209734 non-null  float64            \n",
      " 6   num_reviews         209734 non-null  int64              \n",
      " 7   num_comments        209734 non-null  int64              \n",
      " 8   num_lectures        209734 non-null  int64              \n",
      " 9   content_length_min  209734 non-null  float64            \n",
      " 10  published_time      209734 non-null  datetime64[ns, UTC]\n",
      " 11  last_update_date    209597 non-null  datetime64[ns]     \n",
      " 12  category            209734 non-null  object             \n",
      " 13  subcategory         209734 non-null  object             \n",
      " 14  topic               208776 non-null  object             \n",
      " 15  language            209734 non-null  object             \n",
      " 16  course_url          209734 non-null  object             \n",
      " 17  instructor_name     209729 non-null  object             \n",
      " 18  instructor_url      209307 non-null  object             \n",
      "dtypes: bool(1), datetime64[ns, UTC](1), datetime64[ns](1), float64(3), int64(4), object(9)\n",
      "memory usage: 30.6+ MB\n"
     ]
    }
   ],
   "source": [
    "c_info.info()"
   ]
  },
  {
   "cell_type": "markdown",
   "id": "5845bca4",
   "metadata": {},
   "source": [
    "### Creación de una nueva columna con los nombres de usuario y de curso extraidos de los url"
   ]
  },
  {
   "cell_type": "code",
   "execution_count": 4,
   "id": "01aa1faa",
   "metadata": {},
   "outputs": [
    {
     "name": "stdout",
     "output_type": "stream",
     "text": [
      "0:00:00.096426\n"
     ]
    }
   ],
   "source": [
    "prev = datetime.datetime.now()\n",
    "c_info.insert(18,'instructor_username',c_info['instructor_url'].str[6:-2])\n",
    "c_info.insert(17,'course_username',c_info['course_url'].str[8:-1])\n",
    "c_info.head()\n",
    "print(datetime.datetime.now() - prev)"
   ]
  },
  {
   "cell_type": "markdown",
   "id": "7a0349e2",
   "metadata": {},
   "source": [
    "### Muestra el curso más antiguo y el más reciente con su fecha de publicación"
   ]
  },
  {
   "cell_type": "code",
   "execution_count": 5,
   "id": "8a34fd5a",
   "metadata": {},
   "outputs": [
    {
     "data": {
      "text/html": [
       "<div>\n",
       "<style scoped>\n",
       "    .dataframe tbody tr th:only-of-type {\n",
       "        vertical-align: middle;\n",
       "    }\n",
       "\n",
       "    .dataframe tbody tr th {\n",
       "        vertical-align: top;\n",
       "    }\n",
       "\n",
       "    .dataframe thead th {\n",
       "        text-align: right;\n",
       "    }\n",
       "</style>\n",
       "<table border=\"1\" class=\"dataframe\">\n",
       "  <thead>\n",
       "    <tr style=\"text-align: right;\">\n",
       "      <th></th>\n",
       "      <th>published_time</th>\n",
       "      <th>last_update_date</th>\n",
       "      <th>title</th>\n",
       "    </tr>\n",
       "    <tr>\n",
       "      <th>id</th>\n",
       "      <th></th>\n",
       "      <th></th>\n",
       "      <th></th>\n",
       "    </tr>\n",
       "  </thead>\n",
       "  <tbody>\n",
       "    <tr>\n",
       "      <th>1769.0</th>\n",
       "      <td>2010-01-12 18:09:46+00:00</td>\n",
       "      <td>NaT</td>\n",
       "      <td>The Lean Startup Talk at Stanford E-Corner</td>\n",
       "    </tr>\n",
       "    <tr>\n",
       "      <th>4843332.0</th>\n",
       "      <td>2022-10-05 17:04:08+00:00</td>\n",
       "      <td>2022-10-03</td>\n",
       "      <td>Manual para la Perdida de Masa Grasa</td>\n",
       "    </tr>\n",
       "  </tbody>\n",
       "</table>\n",
       "</div>"
      ],
      "text/plain": [
       "                     published_time last_update_date  \\\n",
       "id                                                     \n",
       "1769.0    2010-01-12 18:09:46+00:00              NaT   \n",
       "4843332.0 2022-10-05 17:04:08+00:00       2022-10-03   \n",
       "\n",
       "                                                title  \n",
       "id                                                     \n",
       "1769.0     The Lean Startup Talk at Stanford E-Corner  \n",
       "4843332.0        Manual para la Perdida de Masa Grasa  "
      ]
     },
     "metadata": {},
     "output_type": "display_data"
    },
    {
     "name": "stdout",
     "output_type": "stream",
     "text": [
      "0:00:00.110205\n"
     ]
    }
   ],
   "source": [
    "prev = datetime.datetime.now()\n",
    "old_date=c_info['published_time'].min()\n",
    "recent_date=c_info['published_time'].max()\n",
    "dates=c_info.loc[c_info['published_time'].isin([old_date,recent_date])]\n",
    "#dates.filter(items=['published_time','last_update_date','title']).head()\n",
    "disp(dates.filter(items=['published_time','last_update_date','title']))\n",
    "print(datetime.datetime.now() - prev)"
   ]
  },
  {
   "cell_type": "markdown",
   "id": "14033325",
   "metadata": {},
   "source": [
    "### Cuenta el número de cursos por lenguaje"
   ]
  },
  {
   "cell_type": "code",
   "execution_count": 6,
   "id": "4fcb2723",
   "metadata": {},
   "outputs": [
    {
     "name": "stdout",
     "output_type": "stream",
     "text": [
      "language\n",
      "English                123921\n",
      "Spanish                 17428\n",
      "Turkish                  8100\n",
      "Simplified Chinese        995\n",
      "Arabic                   5197\n",
      "Portuguese              18471\n",
      "Italian                  3637\n",
      "Serbian                    23\n",
      "Afrikaans                  36\n",
      "French                   5465\n",
      "Slovak                      7\n",
      "Japanese                 7006\n",
      "Hebrew                    203\n",
      "Traditional Chinese      1014\n",
      "Estonian                   10\n",
      "German                   6101\n",
      "Russian                  2686\n",
      "Finnish                    13\n",
      "Dutch                     227\n",
      "Hungarian                 116\n",
      "Swedish                    20\n",
      "Norwegian                  20\n",
      "Thai                      338\n",
      "Bulgarian                  27\n",
      "Polish                   1530\n",
      "Urdu                      530\n",
      "Croatian                   33\n",
      "Marathi                    70\n",
      "Danish                     10\n",
      "Greek                     105\n",
      "Hindi                    1758\n",
      "Indonesian               1580\n",
      "Azeri                      82\n",
      "Vietnamese                180\n",
      "Bengali                    85\n",
      "Persian                    43\n",
      "Malay                      15\n",
      "Korean                   1660\n",
      "Filipino                   16\n",
      "Romanian                  298\n",
      "Catalan                     7\n",
      "Czech                      19\n",
      "Albanian                    9\n",
      "Telugu                     85\n",
      "Latvian                     6\n",
      "Ukrainian                  38\n",
      "Tamil                     257\n",
      "Somali                     14\n",
      "Burmese                    31\n",
      "Kazakh                      7\n",
      "Tatar                       1\n",
      "Kurdish                     7\n",
      "Aymara                      1\n",
      "Malayalam                  60\n",
      "Uzbek                      11\n",
      "Georgian                    9\n",
      "Lithuanian                  7\n",
      "Gujarati                   24\n",
      "Pashto                     10\n",
      "Haitian                     2\n",
      "Nepali                     13\n",
      "Armenian                    2\n",
      "Punjabi                     6\n",
      "Swahili                     6\n",
      "Mongolian                   4\n",
      "Slovenian                   2\n",
      "Zulu                        1\n",
      "Kannada                    16\n",
      "Guaraní                     2\n",
      "Quechua                     3\n",
      "Macedonian                  3\n",
      "Khmer                       3\n",
      "Frisian                     1\n",
      "Welsh                       1\n",
      "Irish                       6\n",
      "Basque                      1\n",
      "Xhosa                       1\n",
      "Tajik                       1\n",
      "Faroese                     1\n",
      "Name: language, dtype: int64\n",
      "0:00:00.015209\n"
     ]
    }
   ],
   "source": [
    "prev = datetime.datetime.now()\n",
    "courses_per_language=c_info.groupby(by='language',sort=False)['language'].count()\n",
    "with pd.option_context('display.max_rows', None,):\n",
    "   print(courses_per_language)\n",
    "print(datetime.datetime.now() - prev)"
   ]
  },
  {
   "cell_type": "markdown",
   "id": "26b8e8f4",
   "metadata": {},
   "source": [
    "### Cursos con mayor número de suscriptores"
   ]
  },
  {
   "cell_type": "code",
   "execution_count": 7,
   "id": "64d3690d",
   "metadata": {},
   "outputs": [
    {
     "name": "stdout",
     "output_type": "stream",
     "text": [
      "0:00:00.057398\n"
     ]
    }
   ],
   "source": [
    "prev = datetime.datetime.now()\n",
    "c_info.filter(items=['title', 'instructor_name', 'published_time', 'num_subscribers']).sort_values('num_subscribers',ascending=False).head(10)\n",
    "print(datetime.datetime.now() - prev)"
   ]
  },
  {
   "cell_type": "markdown",
   "id": "e9650fd2",
   "metadata": {},
   "source": [
    "### Número de cursos con 0 y 1 subscriptor"
   ]
  },
  {
   "cell_type": "code",
   "execution_count": 11,
   "id": "7e01f105",
   "metadata": {},
   "outputs": [
    {
     "name": "stdout",
     "output_type": "stream",
     "text": [
      "Sin subscriptores: 9456\n",
      "Un subscriptor: 5698\n",
      "0:00:00.009053\n"
     ]
    }
   ],
   "source": [
    "prev = datetime.datetime.now()\n",
    "cero_subs=c_info.filter(items=['num_subscribers']).loc[c_info['num_subscribers']==0].count()\n",
    "one_subs=c_info.filter(items=['num_subscribers']).loc[c_info['num_subscribers']==1].count()\n",
    "print('Sin subscriptores:',cero_subs[0])\n",
    "print('Un subscriptor:',one_subs[0])\n",
    "print(datetime.datetime.now() - prev)"
   ]
  },
  {
   "cell_type": "code",
   "execution_count": 9,
   "id": "e83be9fd",
   "metadata": {},
   "outputs": [
    {
     "name": "stdout",
     "output_type": "stream",
     "text": [
      "Sin subscriptores: 9456\n",
      "Un subscriptor: 5698\n",
      "0:00:00.043632\n"
     ]
    }
   ],
   "source": [
    "prev = datetime.datetime.now()\n",
    "cero_subs2=c_info[c_info['num_subscribers']==0].count()\n",
    "one_subs2=c_info[c_info['num_subscribers']==1].count()\n",
    "print('Sin subscriptores:',cero_subs[0])\n",
    "print('Un subscriptor:',one_subs[0])\n",
    "\n",
    "print(datetime.datetime.now() - prev)"
   ]
  },
  {
   "cell_type": "markdown",
   "id": "341b095a",
   "metadata": {},
   "source": [
    "### Creación de una función udf para extraer los nombres de pila de los instructores"
   ]
  },
  {
   "cell_type": "code",
   "execution_count": 12,
   "id": "598cdefe",
   "metadata": {},
   "outputs": [
    {
     "name": "stdout",
     "output_type": "stream",
     "text": [
      "0:00:00\n"
     ]
    }
   ],
   "source": [
    "prev = datetime.datetime.now()\n",
    "def getFirstName(name):\n",
    "\tans = \"\"\n",
    "\tif name is None:\n",
    "\t\treturn \"None\"\n",
    "\tsname = name.split()\n",
    "\tprefix = ['mr.','mrs.','ms.','dr.','prof.','sr.','jr.','.',',','mr','mrs','ms','dr','prof','sr','jr']\n",
    "\tfor i in range(len(sname)):\n",
    "\t\tsname[i] = sname[i].lower()\n",
    "\tif len(sname) > 0 and sname[0] not in prefix:\n",
    "\t\tans = sname[0]\n",
    "\telif len(sname) > 1 and sname[1] not in prefix:\n",
    "\t\tans = sname[1]\n",
    "\telif len(sname) > 2 and sname[2] not in prefix:\n",
    "\t\tans = sname[2]\n",
    "\tans =ans.capitalize()\n",
    "\treturn ans\n",
    "print(datetime.datetime.now() - prev)"
   ]
  },
  {
   "cell_type": "code",
   "execution_count": 13,
   "id": "7f192710",
   "metadata": {},
   "outputs": [
    {
     "name": "stdout",
     "output_type": "stream",
     "text": [
      "0:00:00.218829\n"
     ]
    }
   ],
   "source": [
    "prev = datetime.datetime.now()\n",
    "instructors_df = c_info.groupby(['instructor_username','instructor_name']).agg({'num_subscribers':'mean','avg_rating':'mean', 'price':'mean'})\n",
    "instructors_df.reset_index(inplace = True)\n",
    "instructors_df = instructors_df.set_index('instructor_username')\n",
    "instructors_df.head()\n",
    "print(datetime.datetime.now() - prev)"
   ]
  },
  {
   "cell_type": "code",
   "execution_count": 14,
   "id": "1af97960",
   "metadata": {},
   "outputs": [
    {
     "name": "stdout",
     "output_type": "stream",
     "text": [
      "0:00:00.100438\n"
     ]
    }
   ],
   "source": [
    "prev = datetime.datetime.now()\n",
    "instructors_df['instructor_name']= instructors_df['instructor_name'].map(getFirstName)\n",
    "instructors_df.head()\n",
    "print(datetime.datetime.now() - prev)"
   ]
  },
  {
   "cell_type": "markdown",
   "id": "bd32a08c",
   "metadata": {},
   "source": [
    "### A traves de la librería gender_guesser adivina el género de los instructores"
   ]
  },
  {
   "cell_type": "code",
   "execution_count": 16,
   "id": "72906af7",
   "metadata": {},
   "outputs": [],
   "source": [
    "import gender_guesser.detector as gender\n",
    "gd = gender.Detector()"
   ]
  },
  {
   "cell_type": "code",
   "execution_count": 17,
   "id": "ed03ba6f",
   "metadata": {},
   "outputs": [
    {
     "name": "stdout",
     "output_type": "stream",
     "text": [
      "0:00:00.179415\n"
     ]
    }
   ],
   "source": [
    "prev = datetime.datetime.now()\n",
    "instructors_df['gender'] = instructors_df['instructor_name'].map(lambda x: gd.get_gender(x.capitalize()))\n",
    "instructors_df.head()\n",
    "print(datetime.datetime.now() - prev)"
   ]
  },
  {
   "cell_type": "code",
   "execution_count": 18,
   "id": "7265caad",
   "metadata": {},
   "outputs": [
    {
     "name": "stdout",
     "output_type": "stream",
     "text": [
      "0:00:00.018595\n"
     ]
    }
   ],
   "source": [
    "prev = datetime.datetime.now()\n",
    "known_instructors = instructors_df[instructors_df['gender'] != 'unknown']\n",
    "known_instructors.head()\n",
    "print(datetime.datetime.now() - prev)"
   ]
  },
  {
   "cell_type": "markdown",
   "id": "df5e7598",
   "metadata": {},
   "source": [
    "### Obtiene el número promedio de subscriptores por género y lo grafica"
   ]
  },
  {
   "cell_type": "code",
   "execution_count": 19,
   "id": "4d32da6e",
   "metadata": {},
   "outputs": [],
   "source": [
    "import matplotlib.pyplot as plt\n",
    "import seaborn as sns"
   ]
  },
  {
   "cell_type": "code",
   "execution_count": 20,
   "id": "f5d0d476",
   "metadata": {},
   "outputs": [
    {
     "name": "stdout",
     "output_type": "stream",
     "text": [
      "0:00:00.006151\n"
     ]
    }
   ],
   "source": [
    "prev = datetime.datetime.now()\n",
    "avg_num_subscribers_per_gender = known_instructors.groupby('gender').agg({'num_subscribers':'mean'})\n",
    "avg_num_subscribers_per_gender.head()\n",
    "print(datetime.datetime.now() - prev)"
   ]
  },
  {
   "cell_type": "code",
   "execution_count": 21,
   "id": "46c9141d",
   "metadata": {
    "scrolled": true
   },
   "outputs": [
    {
     "name": "stdout",
     "output_type": "stream",
     "text": [
      "0:00:00.041121\n"
     ]
    },
    {
     "data": {
      "image/png": "[encoded data removed]",
      "text/plain": [
       "<Figure size 640x480 with 1 Axes>"
      ]
     },
     "metadata": {},
     "output_type": "display_data"
    }
   ],
   "source": [
    "prev = datetime.datetime.now()\n",
    "sns.barplot(x = avg_num_subscribers_per_gender.index, y = 'num_subscribers', data = avg_num_subscribers_per_gender)\n",
    "print(datetime.datetime.now() - prev)"
   ]
  },
  {
   "cell_type": "markdown",
   "id": "c6155f80",
   "metadata": {},
   "source": [
    "### Obtiene el raiting promedio por género y lo grafica"
   ]
  },
  {
   "cell_type": "code",
   "execution_count": 22,
   "id": "4d3eb33d",
   "metadata": {},
   "outputs": [
    {
     "name": "stdout",
     "output_type": "stream",
     "text": [
      "0:00:00.004982\n"
     ]
    }
   ],
   "source": [
    "prev = datetime.datetime.now()\n",
    "avg_rating_per_gender = known_instructors.groupby('gender').agg({'avg_rating':'mean'})\n",
    "avg_rating_per_gender.head()\n",
    "print(datetime.datetime.now() - prev)"
   ]
  },
  {
   "cell_type": "code",
   "execution_count": 23,
   "id": "a743f57f",
   "metadata": {},
   "outputs": [
    {
     "name": "stdout",
     "output_type": "stream",
     "text": [
      "0:00:00.024242\n"
     ]
    },
    {
     "data": {
      "image/png": "[encoded data removed]",
      "text/plain": [
       "<Figure size 640x480 with 1 Axes>"
      ]
     },
     "metadata": {},
     "output_type": "display_data"
    }
   ],
   "source": [
    "prev = datetime.datetime.now()\n",
    "plt.ylim(3,5)\n",
    "sns.barplot(x = avg_rating_per_gender.index, y = 'avg_rating', data = avg_rating_per_gender)\n",
    "print(datetime.datetime.now() - prev)"
   ]
  }
 ],
 "metadata": {
  "kernelspec": {
   "display_name": "Python 3 (ipykernel)",
   "language": "python",
   "name": "python3"
  },
  "language_info": {
   "codemirror_mode": {
    "name": "ipython",
    "version": 3
   },
   "file_extension": ".py",
   "mimetype": "text/x-python",
   "name": "python",
   "nbconvert_exporter": "python",
   "pygments_lexer": "ipython3",
   "version": "3.10.8"
  }
 },
 "nbformat": 4,
 "nbformat_minor": 5
}
